{
 "cells": [
  {
   "cell_type": "code",
   "execution_count": 106,
   "metadata": {},
   "outputs": [],
   "source": [
    "import numpy as np\n",
    "import matplotlib.pyplot as plt\n",
    "import random\n",
    "import math"
   ]
  },
  {
   "cell_type": "code",
   "execution_count": 67,
   "metadata": {},
   "outputs": [],
   "source": [
    "def dist(U,N):\n",
    "    random.seed(10)\n",
    "    d=500\n",
    "    i=0\n",
    "    c=set()\n",
    "    User=[]\n",
    "    Base=[]\n",
    "    while len(c)<U+N:\n",
    "        x=random.uniform(0,d)\n",
    "        y=random.uniform(0,d)\n",
    "        c.add((x,y))\n",
    "    for (x,y) in c:\n",
    "        if(i<U):\n",
    "            User.append((x,y))\n",
    "        else:\n",
    "            Base.append((x,y))\n",
    "        i=i+1\n",
    "    return (User,Base)\n",
    "    "
   ]
  },
  {
   "cell_type": "code",
   "execution_count": 180,
   "metadata": {},
   "outputs": [],
   "source": [
    "def plot_map(s1,c1,s2,c2):\n",
    "    X1=[]\n",
    "    Y1=[]\n",
    "    X2=[]\n",
    "    Y2=[]\n",
    "    numusers=len(s1)\n",
    "    numbs=len(s2)\n",
    "    for (x,y) in s1:\n",
    "        X1.append(x)\n",
    "        Y1.append(y)\n",
    "    for (x,y) in s2:\n",
    "        X2.append(x)\n",
    "        Y2.append(y)\n",
    "    plt.scatter(X1,Y1,color=c1,)\n",
    "    plt.scatter(X2,Y2,color=c2)\n",
    "    plt.xlabel('X')\n",
    "    plt.xlim(-100,800)\n",
    "    plt.ylim(-100,800)\n",
    "    plt.ylabel('Y')\n",
    "    plt.title(\"map for \"+str(numusers)+\" users and \"+str(numbs)+\" base stations\")\n",
    "    plt.legend([\"users\", \"base station\"], loc =\"upper right\")"
   ]
  },
  {
   "cell_type": "code",
   "execution_count": 181,
   "metadata": {},
   "outputs": [],
   "source": [
    "def channel_gain(User,Base,H,g0,U,N):\n",
    "    g=np.zeros((U,N))\n",
    "    for i in range(U):\n",
    "        (Ux,Uy)=User[i]\n",
    "        for j in range(N):\n",
    "            (Bx,By)=Base[j]\n",
    "            d=(Ux-Bx)**2 + (Uy-By)**2 + H**2\n",
    "            g[i][j]=g0/d\n",
    "    return g\n",
    "    "
   ]
  },
  {
   "cell_type": "code",
   "execution_count": 182,
   "metadata": {},
   "outputs": [],
   "source": [
    "def power_allocation(g,sigma_0,pmax,Iu,B,U,N):\n",
    "    p=pmax*np.ones((U,N))\n",
    "    r=0\n",
    "    while r<50000:\n",
    "        for i in range(U):\n",
    "            r=r+1\n",
    "            mu_r=0.1/np.sqrt(r)\n",
    "            den=sigma_0 + (g*p).sum(axis=0) - g[i]*p[i]\n",
    "            gamma=g[i,:]/den\n",
    "        hpun=np.log2(1+gamma*p)\n",
    "        gpun=np.log(2*(1+gamma*p))\n",
    "        denr=B*(gpun*hpun*hpun)\n",
    "        del_r=mu_r*(Iu*(hpun*gpun - gamma*p))/denr\n",
    "        p=p-del_r\n",
    "        bool_p=p>0\n",
    "        p=bool_p*p\n",
    "    return p\n",
    "            "
   ]
  },
  {
   "cell_type": "code",
   "execution_count": 186,
   "metadata": {},
   "outputs": [
    {
     "name": "stdout",
     "output_type": "stream",
     "text": [
      "[[3.99440886 3.93535465 3.93653491 3.94141691 3.93974147]\n",
      " [3.9961403  3.95535893 3.95617586 3.9595534  3.95839454]\n",
      " [3.99486694 3.94064581 3.94173012 3.94621474 3.94467578]\n",
      " [3.99469125 3.93861634 3.93973747 3.94437455 3.94278323]\n",
      " [3.99439003 3.93513721 3.9363214  3.94121972 3.93953868]\n",
      " [3.99619674 3.95601122 3.95681626 3.96014465 3.95900267]\n",
      " [3.99558211 3.94890846 3.94984273 3.953706   3.95238039]\n",
      " [3.99476027 3.93941363 3.9405203  3.94509749 3.94352674]\n",
      " [3.99466615 3.93832641 3.9394528  3.94411166 3.94251286]\n",
      " [3.99535002 3.94622676 3.94720975 3.95127479 3.94987991]\n",
      " [3.99414526 3.93231037 3.93354577 3.93865623 3.93690233]\n",
      " [3.99572638 3.95057546 3.95147941 3.95521722 3.95393468]\n",
      " [3.99613403 3.95528646 3.9561047  3.9594877  3.95832697]\n",
      " [3.99457202 3.93723919 3.93838528 3.9431258  3.94149895]\n",
      " [3.99467242 3.93839889 3.93952396 3.94417738 3.94258045]\n",
      " [3.99519319 3.94441477 3.94543068 3.949632   3.94819032]\n",
      " [3.99600233 3.95376445 3.9546104  3.95810806 3.95690797]\n",
      " [3.99544411 3.94731394 3.94827718 3.95226044 3.95089363]\n",
      " [3.99385025 3.92890363 3.93020069 3.93556666 3.93372499]\n",
      " [3.99508653 3.94318262 3.9442209  3.94851485 3.94704136]]\n"
     ]
    },
    {
     "data": {
      "image/png": "[encoded data removed]",
      "text/plain": [
       "<Figure size 432x288 with 1 Axes>"
      ]
     },
     "metadata": {
      "needs_background": "light"
     },
     "output_type": "display_data"
    }
   ],
   "source": [
    "U=20 #number of users\n",
    "N=5  #number of Base stations\n",
    "H=0 #BS hieght in (m)\n",
    "g0=10 #channel gain at a dist of 1m\n",
    "pmax=4 #maximum transmission power of user\n",
    "B=20*(10**6) # Bandwidth\n",
    "random.seed(10)\n",
    "Iu=[]\n",
    "for i in range(U):\n",
    "    Iu.append(random.randint(600,1000))\n",
    "Iu=1024*np.reshape(Iu,(20,1))\n",
    "sigma_0=10**-13\n",
    "User,Base=dist(U,N)\n",
    "plot_map(User,\"blue\",Base,\"red\")\n",
    "g=channel_gain(User,Base,H,g0,U,N)\n",
    "pa=power_allocation(g,sigma_0,pmax,Iu,B,U,N)\n",
    "print(pa)"
   ]
  },
  {
   "cell_type": "code",
   "execution_count": null,
   "metadata": {},
   "outputs": [],
   "source": []
  }
 ],
 "metadata": {
  "kernelspec": {
   "display_name": "Python 3",
   "language": "python",
   "name": "python3"
  },
  "language_info": {
   "codemirror_mode": {
    "name": "ipython",
    "version": 3
   },
   "file_extension": ".py",
   "mimetype": "text/x-python",
   "name": "python",
   "nbconvert_exporter": "python",
   "pygments_lexer": "ipython3",
   "version": "3.7.6"
  }
 },
 "nbformat": 4,
 "nbformat_minor": 4
}
